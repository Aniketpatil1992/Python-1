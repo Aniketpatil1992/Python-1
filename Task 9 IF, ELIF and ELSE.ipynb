{
 "cells": [
  {
   "cell_type": "code",
   "execution_count": null,
   "metadata": {},
   "outputs": [],
   "source": [
    "#Task9\n",
    "\"\"\"Ask 2 numbers from users and store it in num1 and num2\n",
    "Ask user to press 1 for addition,2 for subtraction,3 for multiplication and 4 for division\n",
    "based on number given by user do the math operation\n",
    "\"\"\""
   ]
  },
  {
   "cell_type": "code",
   "execution_count": 15,
   "metadata": {},
   "outputs": [
    {
     "name": "stdout",
     "output_type": "stream",
     "text": [
      "Enter 1st number :11\n",
      "Enter 2nd number :2\n",
      "For addition press 3\n",
      "Answer is : 22\n"
     ]
    }
   ],
   "source": [
    "a = int(input(\"Enter 1st number :\"))\n",
    "b = int(input(\"Enter 2nd number :\"))\n",
    "c = int(input(\"For addition press \"))\n",
    "add=a+b\n",
    "sub=a-b\n",
    "mult=a*b\n",
    "div=a/b\n",
    "if (c==1):\n",
    "          print(\"Answer is :\",add)\n",
    "elif(c==2):\n",
    "    print(\"Answer is :\",sub)\n",
    "elif(c==3):\n",
    "    print(\"Answer is :\",mult)\n",
    "elif(c==4):\n",
    "    print(\"Answer is :\",div)\n",
    "else:\n",
    "    print(\"Enter number is invalid\")\n",
    "    \n",
    "    \n",
    "\n",
    "          "
   ]
  },
  {
   "cell_type": "code",
   "execution_count": null,
   "metadata": {},
   "outputs": [],
   "source": []
  }
 ],
 "metadata": {
  "kernelspec": {
   "display_name": "Python 3",
   "language": "python",
   "name": "python3"
  },
  "language_info": {
   "codemirror_mode": {
    "name": "ipython",
    "version": 3
   },
   "file_extension": ".py",
   "mimetype": "text/x-python",
   "name": "python",
   "nbconvert_exporter": "python",
   "pygments_lexer": "ipython3",
   "version": "3.8.5"
  }
 },
 "nbformat": 4,
 "nbformat_minor": 4
}
