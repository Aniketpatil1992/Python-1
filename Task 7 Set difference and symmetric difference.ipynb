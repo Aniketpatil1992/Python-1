{
 "cells": [
  {
   "cell_type": "code",
   "execution_count": null,
   "metadata": {},
   "outputs": [],
   "source": [
    "# Set difference\n",
    "The set difference operation between two sets (set A, set B) gives us the elements\n",
    "of set A which are not in set B.\n",
    "A = {1,2,3}\n",
    "B = {3,4}\n",
    "A-B = {1,2}\n",
    "B-A = {4}\n",
    "The set difference A-B and B-A are different from each other."
   ]
  },
  {
   "cell_type": "code",
   "execution_count": 1,
   "metadata": {},
   "outputs": [
    {
     "data": {
      "text/plain": [
       "{1}"
      ]
     },
     "execution_count": 1,
     "metadata": {},
     "output_type": "execute_result"
    }
   ],
   "source": [
    "# 1) By using set1.difference(set2)\n",
    "a = {1,2,3}\n",
    "b = {3,7,2,6}\n",
    "a.difference(b)"
   ]
  },
  {
   "cell_type": "code",
   "execution_count": 2,
   "metadata": {},
   "outputs": [
    {
     "name": "stdout",
     "output_type": "stream",
     "text": [
      "{1}\n"
     ]
    }
   ],
   "source": [
    "# 2) Using - operator\n",
    "print(a-b)"
   ]
  },
  {
   "cell_type": "code",
   "execution_count": 3,
   "metadata": {},
   "outputs": [
    {
     "data": {
      "text/plain": [
       "{5, 8}"
      ]
     },
     "execution_count": 3,
     "metadata": {},
     "output_type": "execute_result"
    }
   ],
   "source": [
    "# Set difference of more than 2 sets\n",
    "a = {1,2,3,5,8}\n",
    "b = {2,4,6}\n",
    "c = {0,1,2,7}\n",
    "d = {2,3,4}\n",
    "a.difference(b,c,d)"
   ]
  },
  {
   "cell_type": "code",
   "execution_count": null,
   "metadata": {},
   "outputs": [],
   "source": [
    "#Symmetric difference in sets\n",
    "\"\"\"\n",
    "The symmetric difference between two sets (set A , Set B) is the set of values \n",
    "from both sets that are not shared between the 2 sets. That is values that are\n",
    "in either set A or set B but not in both.\n",
    "\n",
    "A = {1,2,3}\n",
    "B = {3,4,5,6}\n",
    "Symmetric difference = {1,2,4,5,6}\n",
    "\n",
    "\"\"\""
   ]
  },
  {
   "cell_type": "code",
   "execution_count": 4,
   "metadata": {},
   "outputs": [
    {
     "data": {
      "text/plain": [
       "{1, 2, 4, 5, 6}"
      ]
     },
     "execution_count": 4,
     "metadata": {},
     "output_type": "execute_result"
    }
   ],
   "source": [
    "# 1) Using symmetric_difference() function\n",
    "a = {1,2,3}\n",
    "b = {3,4,5,6}\n",
    "a.symmetric_difference(b)"
   ]
  },
  {
   "cell_type": "code",
   "execution_count": 5,
   "metadata": {},
   "outputs": [
    {
     "data": {
      "text/plain": [
       "{1, 4, 5}"
      ]
     },
     "execution_count": 5,
     "metadata": {},
     "output_type": "execute_result"
    }
   ],
   "source": [
    "# 2) Using ^ operator\n",
    "p = {1,2,3,}\n",
    "q = {2,3,4,5}\n",
    "p^q"
   ]
  }
 ],
 "metadata": {
  "kernelspec": {
   "display_name": "Python 3",
   "language": "python",
   "name": "python3"
  },
  "language_info": {
   "codemirror_mode": {
    "name": "ipython",
    "version": 3
   },
   "file_extension": ".py",
   "mimetype": "text/x-python",
   "name": "python",
   "nbconvert_exporter": "python",
   "pygments_lexer": "ipython3",
   "version": "3.8.5"
  }
 },
 "nbformat": 4,
 "nbformat_minor": 4
}
