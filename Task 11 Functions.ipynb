{
 "cells": [
  {
   "cell_type": "code",
   "execution_count": null,
   "metadata": {},
   "outputs": [],
   "source": [
    "\"\"\"Task11.2\n",
    "Ask 2 numbers from users and store it in num1 and num2\n",
    "Ask user to press 1 for addition,2 for subtraction,3 for multiplication and 4 for division\n",
    "create 4 seperate functions for each operation (i.e. addition,subtraction,multiplication and division)\n",
    "based on number given by user,call that perticular function and print the output\n",
    "\"\"\""
   ]
  },
  {
   "cell_type": "code",
   "execution_count": 27,
   "metadata": {},
   "outputs": [
    {
     "name": "stdout",
     "output_type": "stream",
     "text": [
      "Enter 1st number :77\n",
      "Enter 2nd number :55\n",
      "Enter 1 for addition ,Enter 2 for substraction, Enter 3 for multiplication, 4 for division5\n",
      "Invalid operation entry\n"
     ]
    }
   ],
   "source": [
    "num1 = int(input(\"Enter 1st number :\"))\n",
    "num2 = int(input(\"Enter 2nd number :\"))\n",
    "num3 = int(input(\"Enter 1 for addition ,Enter 2 for substraction, Enter 3 for multiplication, 4 for division\"))\n",
    "def add():\n",
    "    answer=num1+num2\n",
    "    print(answer)\n",
    "def subs():\n",
    "    answer=num1-num2\n",
    "    print(answer)\n",
    "def mult():\n",
    "    answer=num1*num2\n",
    "    print(answer)\n",
    "def div():\n",
    "    answer=num1/num2\n",
    "    print(answer)\n",
    "if (num3==1):\n",
    "    add()\n",
    "elif (num3==2):\n",
    "    subs()\n",
    "elif (num3==3):\n",
    "    mult()\n",
    "elif (num3==4):\n",
    "    div()\n",
    "else:\n",
    "    print(\"Invalid operation entry\")\n",
    "    "
   ]
  },
  {
   "cell_type": "code",
   "execution_count": null,
   "metadata": {},
   "outputs": [],
   "source": []
  }
 ],
 "metadata": {
  "kernelspec": {
   "display_name": "Python 3",
   "language": "python",
   "name": "python3"
  },
  "language_info": {
   "codemirror_mode": {
    "name": "ipython",
    "version": 3
   },
   "file_extension": ".py",
   "mimetype": "text/x-python",
   "name": "python",
   "nbconvert_exporter": "python",
   "pygments_lexer": "ipython3",
   "version": "3.8.5"
  }
 },
 "nbformat": 4,
 "nbformat_minor": 4
}
